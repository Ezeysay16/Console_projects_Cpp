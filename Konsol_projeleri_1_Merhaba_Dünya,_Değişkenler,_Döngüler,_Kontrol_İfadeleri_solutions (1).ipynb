{
  "nbformat": 4,
  "nbformat_minor": 0,
  "metadata": {
    "colab": {
      "name": "Konsol projeleri - 1 : Merhaba Dünya, Değişkenler, Döngüler, Kontrol İfadeleri solutions",
      "provenance": []
    },
    "kernelspec": {
      "name": "python3",
      "display_name": "Python 3"
    },
    "language_info": {
      "name": "python"
    }
  },
  "cells": [
    {
      "cell_type": "markdown",
      "source": [
        "# Hello World!!"
      ],
      "metadata": {
        "id": "JtY8-C6s7-_7"
      }
    },
    {
      "cell_type": "code",
      "source": [
        "\tcout << \"!!!Hello World!!!\" << endl; // prints !!!Hello World!!!\n"
      ],
      "metadata": {
        "id": "U-PeiHuW8E8b"
      },
      "execution_count": null,
      "outputs": []
    },
    {
      "cell_type": "markdown",
      "source": [
        "# HELLO MY FRIEND"
      ],
      "metadata": {
        "id": "578vOAHG8jWd"
      }
    },
    {
      "cell_type": "code",
      "source": [
        "\tstring name;\n",
        "\n",
        "\tcout << \"Hello, what is your name? \" << endl;\n",
        "\n",
        "\tcin >> name;\n",
        "\n",
        "\tcout << \"Hello\" << name << endl;"
      ],
      "metadata": {
        "id": "LBsO34JP8kgj"
      },
      "execution_count": null,
      "outputs": []
    },
    {
      "cell_type": "markdown",
      "source": [
        "# SUM OF THE NUMBERS"
      ],
      "metadata": {
        "id": "UgKz7qu-8vch"
      }
    },
    {
      "cell_type": "code",
      "source": [
        "\tint sayi1,sayi2,sum;   // you can write them separately like this : int sayi1; int sayi2; int sum;\n",
        "\n",
        "\tcout << \"Sayı 1: \";\n",
        "\tcin >> sayi1;\n",
        "\n",
        "\n",
        "\tcout << \"Sayı 2: \";\n",
        "\tcin >> sayi2;\n",
        "\n",
        "\tsum = sayi1 + sayi2;\n",
        "\n",
        "\tcout << \"Sum: \" << sum << endl;"
      ],
      "metadata": {
        "id": "vPt6aKqd8ylC"
      },
      "execution_count": null,
      "outputs": []
    },
    {
      "cell_type": "markdown",
      "source": [
        "# Rectangle Area calculation"
      ],
      "metadata": {
        "id": "cbJU3N3l9iry"
      }
    },
    {
      "cell_type": "code",
      "source": [
        "\tint en,boy,alan;\n",
        "\n",
        "\tcout << \"En: \";\n",
        "\tcin >> en;\n",
        "\n",
        "\tcout << \"Boy: \";\n",
        "\tcin >> boy;\n",
        "\n",
        "\talan = en * boy;\n",
        "\n",
        "\tcout << \"Alan: \" << alan << endl;"
      ],
      "metadata": {
        "id": "B-C_G8zi9jh8"
      },
      "execution_count": null,
      "outputs": []
    },
    {
      "cell_type": "markdown",
      "source": [
        "# DISTANCE CONVERTER"
      ],
      "metadata": {
        "id": "Um5M5vgg96LU"
      }
    },
    {
      "cell_type": "code",
      "source": [
        "\n",
        "\n",
        "\tdouble uzaklik,inch = 2.54;\n",
        "\n",
        "\n",
        "\tcout << \"Uzaklığı giriniz: \";\n",
        "\n",
        "\tcin >> uzaklik;\n",
        "\n",
        "\tcout << uzaklik << \"cm = \" << uzaklik / inch << \" inch\" << endl;"
      ],
      "metadata": {
        "id": "xQ4hJcUP96xM"
      },
      "execution_count": null,
      "outputs": []
    },
    {
      "cell_type": "markdown",
      "source": [
        "# Order numbers"
      ],
      "metadata": {
        "id": "G7JJ_Uqr-CTj"
      }
    },
    {
      "cell_type": "code",
      "source": [
        "\n",
        "\tint num1,num2;\n",
        "\n",
        "\n",
        "\tcout << \"Please enter two integer\";\n",
        "\tcin >>  num1 >> num2;\n",
        "\n",
        "\tif (num1 == num2) {\n",
        "\t\tcout << \"two integers are equal.\";\n",
        "\t}\n",
        "\telse if (num1 > num2) {\n",
        "\t\tcout << \"first integer is higher than the second integer.\";\n",
        "\t}\n",
        "\telse if (num1 < num2) {\n",
        "\t\tcout << \"second integer is higher than the first integer.\";\n",
        "\t}\n"
      ],
      "metadata": {
        "id": "d5onEpHD-Cyx"
      },
      "execution_count": null,
      "outputs": []
    },
    {
      "cell_type": "markdown",
      "source": [
        "# BANKNOTES"
      ],
      "metadata": {
        "id": "KREC4amD-R0P"
      }
    },
    {
      "cell_type": "code",
      "source": [
        "\n",
        "\n",
        "\tint para,yuzluk,ellilik,yirmilik,onluk,beslik;\n",
        "\n",
        "\tcout << \"Bank-IDU'ya hoşgeldiniz, varolan banknotlar: 100,50,20,10,5 \" << endl;\n",
        "\n",
        "\n",
        "\tcout << \"para miktarını giriniz: \";\n",
        "\tcin >> para;\n",
        "\n",
        "\tyuzluk = para / 100;\n",
        "\tpara = para % 100;\n",
        "\tellilik = para / 50;\n",
        "\tpara = para % 50;\n",
        "\tyirmilik = para / 20;\n",
        "\tpara = para % 20;\n",
        "\tonluk = para / 10;\n",
        "\tpara = para % 10;\n",
        "\tbeslik = para / 5;\n",
        "\n",
        "\tcout << \"paranızı bölmeden alınız\" << endl;\n",
        "\n",
        "\tcout << \"Yüzlük banknot sayısı: \" << yuzluk << endl;\n",
        "\n",
        "\tcout << \"Ellilik banknot sayısı: \" << ellilik << endl;\n",
        "\n",
        "\tcout << \"Yirmilik banknot sayısı: \" << yirmilik << endl;\n",
        "\n",
        "\tcout << \"Onluk banknot sayısı: \" << onluk << endl;\n",
        "\n",
        "\tcout << \"Beşlik banknot sayısı: \" <<beslik << endl;\n",
        "\n",
        "\n",
        "\n",
        "\n"
      ],
      "metadata": {
        "id": "9DnVHPxu-UkH"
      },
      "execution_count": null,
      "outputs": []
    },
    {
      "cell_type": "markdown",
      "source": [
        "# SUM OF THE NUMBERS - 2"
      ],
      "metadata": {
        "id": "HR4hqHf2-dg8"
      }
    },
    {
      "cell_type": "code",
      "source": [
        "\n",
        "\tint a,sum;\n",
        "\tfor(int i = 1; i <= 10; i++) {\n",
        "\t\tcout << i << \".  sayı: \";\n",
        "\t\tcin >> a;\n",
        "\t\tsum = sum + a;\n",
        "\n",
        "\n",
        "\n",
        "\t}\n",
        "\n",
        "\tcout << \"sum: \" << sum << endl;\n"
      ],
      "metadata": {
        "id": "HQhqr1lT-d9O"
      },
      "execution_count": null,
      "outputs": []
    },
    {
      "cell_type": "markdown",
      "source": [
        "# AVERAGE OF THE NUMBERS"
      ],
      "metadata": {
        "id": "V3fWbAW3-kRY"
      }
    },
    {
      "cell_type": "code",
      "source": [
        "\n",
        "\tint a,ort;\n",
        "\tint sum = 0,i = 0;\n",
        "\n",
        "\n",
        "\tdo {\n",
        "\t\tcout << \"Sayı = \";\n",
        "\t\tcin >> a;\n",
        "\t\tsum = sum + a;\n",
        "\t\ti += 1;\n",
        "\n",
        "\n",
        "\t}while(a != 0);\n",
        "\n",
        "\n",
        "\tort = sum / (i-1);\n",
        "\n",
        "\tcout << \"ortalama: \" << ort << endl;"
      ],
      "metadata": {
        "id": "dXxxTRry-kxi"
      },
      "execution_count": null,
      "outputs": []
    },
    {
      "cell_type": "markdown",
      "source": [
        "# LINGO LINGO SISELER"
      ],
      "metadata": {
        "id": "MLa5GBew-uEp"
      }
    },
    {
      "cell_type": "code",
      "source": [
        "\tint i = 99;\n",
        "\n",
        "\tdo {\n",
        "\t\tcout << \"Duvarın üzerinde \" << i << \" şişe var.\\n\" << i << \"şise \" << \" duvarın üzerinde\\nBir tane aldın kaç git\\nDuvarın üzerinde \" << i-1 << \" şişe var\" << endl;\n",
        "\n",
        "\t\ti -= 1;\n",
        "\t\tif (i == 1) {\n",
        "\t\t\tcout << \"---------------\" << endl;\n",
        "\t\t\tcout << \"Duvarın üzerinde \" << i << \" şişe var.\\n\" << i << \"şise \" << \" duvarın üzerinde\\nBir tane aldın kaç git\\nDuvarın üzerinde hiç şişe bırakmadın\" << endl;\n",
        "\n",
        "\t\t}\n",
        "\t\tcout << \"---------------\" << endl;\n",
        "\t}while(i > 1);"
      ],
      "metadata": {
        "id": "CFjNbKR2-uml"
      },
      "execution_count": null,
      "outputs": []
    },
    {
      "cell_type": "markdown",
      "source": [
        "# COMPUTATION OF THE INTEREST"
      ],
      "metadata": {
        "id": "1c2dST4m-1U1"
      }
    },
    {
      "cell_type": "code",
      "source": [
        "\n",
        "\tdouble para,faiz,sonuc;\n",
        "\n",
        "\tcout << \"----Faiz hesap programı----\" << endl;\n",
        "\n",
        "\tcout << \"Anapara: \";\n",
        "\tcin >> para;\n",
        "\n",
        "\tcout << \"yıllık faiz miktarı (%)  :  \";\n",
        "\tcin >> faiz;\n",
        "\n",
        "\n",
        "\tfor (int i = 1; i <=10; i++) {\n",
        "\n",
        "\t\tsonuc = para + para * (faiz / 100);\n",
        "\n",
        "\t\tcout << i << \" yıl sonunda hesaptaki miktar = \" << sonuc << endl;\n",
        "\t\tpara = sonuc;\n",
        "\t}\n"
      ],
      "metadata": {
        "id": "pbfICLfg-2JT"
      },
      "execution_count": null,
      "outputs": []
    },
    {
      "cell_type": "markdown",
      "source": [
        "# MAX - MIN NUMBER"
      ],
      "metadata": {
        "id": "iD7s5kcF_SJt"
      }
    },
    {
      "cell_type": "code",
      "source": [
        "\tint sayi;\n",
        "\tint min = 1000;\n",
        "\tint max = -1000;\n",
        "\n",
        "\tcout << \"Gireceğiniz tam sayıların maksimum ve minimum değerlerini bulan  program  \" << endl;\n",
        "\tcout << \"Sayı girşini sonlandırmak içim 0 giriniz.\" << endl;\n",
        "\n",
        "\n",
        "\tdo {\n",
        "\n",
        "\t\tcout << \"Tam sayı giriniz: \";\n",
        "\t\tcin >> sayi;\n",
        "\t\tif (sayi > max){\n",
        "\t\t\tmax = sayi;\n",
        "\t\t}\n",
        "\t\tif (sayi < min) {\n",
        "\t\t\tmin = sayi;\n",
        "\t\t}\n",
        "\n",
        "\t}while(sayi != 0);\n",
        "\n",
        "\tcout << \"Maximum değer: \" << max << endl;\n",
        "\tcout << \"Minimum değer: \" << min << endl;\n"
      ],
      "metadata": {
        "id": "vBHf-xbe_Ss2"
      },
      "execution_count": null,
      "outputs": []
    },
    {
      "cell_type": "markdown",
      "source": [
        "# SUM OF THE DIGITS"
      ],
      "metadata": {
        "id": "1AbQvI9s_djR"
      }
    },
    {
      "cell_type": "code",
      "source": [
        "\tint sayi,rakam;  // you can write them in\n",
        "\tint toplam = 0;  // the same line as well.\n",
        "\n",
        "\n",
        "\tcout << \"Bir sayı giriniz: \";\n",
        "\tcin >>  sayi;\n",
        "\n",
        "\n",
        "\twhile (sayi > 0 ) {\n",
        "\t\trakam = sayi % 10;\n",
        "\t\ttoplam = toplam + rakam;\n",
        "\t\tsayi = sayi / 10;\n",
        "\n",
        "\t}\n",
        "\tcout << \"Sayıdaki rakamların toplamı = \" << toplam << endl;"
      ],
      "metadata": {
        "id": "4ZJUwW_B_ePl"
      },
      "execution_count": null,
      "outputs": []
    },
    {
      "cell_type": "markdown",
      "source": [
        "# GUESS A NUMBER"
      ],
      "metadata": {
        "id": "cHzUTQFq_8Na"
      }
    },
    {
      "cell_type": "code",
      "source": [
        "\n",
        "\n",
        "\tint a;\n",
        "\tint b;\n",
        "\tcout << \"enter a number: \";\n",
        "\tcin >> a;\n",
        "\n",
        "\n",
        "\n",
        "\tdo {\n",
        "\n",
        "\n",
        "\t\tcout << \"your guess: \";\n",
        "\t\tcin >> b;\n",
        "\t\tif (b > a) {\n",
        "\t\t\tcout << \"My number is less than  your guess try again: \" << endl;\n",
        "\n",
        "\n",
        "\t\t}\n",
        "\t\telse if (b < a) {\n",
        "\t\t\tcout << \"My number is higher than  your guess try again: \" << endl;\n",
        "\n",
        "\t\t}\n",
        "\n",
        "\n",
        "\t}while(a != b);\n",
        "\n",
        "\n",
        "\t\tcout << \"congrats, you have found the number but so :)\";\n"
      ],
      "metadata": {
        "id": "MsnbeNZrABrW"
      },
      "execution_count": null,
      "outputs": []
    },
    {
      "cell_type": "markdown",
      "source": [
        "# LEAP YEAR"
      ],
      "metadata": {
        "id": "Z563I8OIAGu6"
      }
    },
    {
      "cell_type": "code",
      "source": [
        "int yil;\n",
        "\tcout << \"-----Bu program girilen yılın artık olup olmadığını bulur.-----\" << endl;\n",
        "\n",
        "\n",
        "\n",
        "\n",
        "\n",
        "\n",
        "\tdo {\n",
        "\t\tcout << \"yıl giriniz: \";\n",
        "\t\tcin >> yil;\n",
        "\t\tif ( yil % 4 == 0) {\n",
        "\t\t\tif (yil % 100 == 0 ) {\n",
        "\t\t\t\tif (yil % 400 == 0) {\n",
        "\t\t\t\t\tcout <<  yil << \" artık bir yıldır.\" << endl;\n",
        "\t\t\t\t}\n",
        "\t\t\t\telse {\n",
        "\t\t\t\t\tcout << yil << \" artık bir yıl değildir.\" << endl;\n",
        "\t\t\t\t}\n",
        "\n",
        "\t\t\t}\n",
        "\t\t\telse {\n",
        "\t\t\t\tcout <<  yil << \" artık bir yıldır.\" << endl;\n",
        "\t\t\t}\n",
        "\n",
        "\t\t}\n",
        "\t\telse {\n",
        "\t\t\tcout << yil << \" artık bir yıl değildir.\" << endl;\n",
        "\t\t}\n",
        "\n",
        "\n",
        "\n",
        "\n",
        "\n",
        "\n",
        "\t}while(yil != 0);\n",
        "\n",
        "\n"
      ],
      "metadata": {
        "id": "EeJIXZccAQoy"
      },
      "execution_count": null,
      "outputs": []
    },
    {
      "cell_type": "markdown",
      "source": [
        "# LETTER GRADE"
      ],
      "metadata": {
        "id": "rC1Tp7_DAVvM"
      }
    },
    {
      "cell_type": "code",
      "source": [
        "\n",
        "\tint a;\n",
        "\n",
        "\n",
        "\n",
        "\tdo {\n",
        "\t\tcout << \"notunuz: \";\n",
        "\t\tcin >> a;\n",
        "\t\tif (a >= 90 ){\n",
        "\t\t\tcout << \"harf notun A\" << endl;\n",
        "\t\t}\n",
        "\t\telse if (a >= 80 && a < 90) {\n",
        "\t\t\tcout << \" harf notun B\" << endl;\n",
        "\t\t}\n",
        "\t\telse if (a >= 70 && a < 80) {\n",
        "\t\t\tcout << \"harf notun C\" << endl;\n",
        "\n",
        "\t\t}\n",
        "\n",
        "\t\telse if (a >= 60 && a < 70) {\n",
        "\t\t\tcout << \"harf notun D\" << endl;\n",
        "\t\t}\n",
        "\t\telse if (a > 0) {\n",
        "\t\t\tcout << \"harf notun F\" << endl;\n",
        "\t\t}\n",
        "\t\t}while(a >= 0);\n",
        "\n",
        "\n",
        "\t\tcout << \"----BİTTİ----\";\n"
      ],
      "metadata": {
        "id": "xO3SelBXAWqQ"
      },
      "execution_count": null,
      "outputs": []
    },
    {
      "cell_type": "markdown",
      "source": [
        "# PRIME NUMBERS"
      ],
      "metadata": {
        "id": "XvS39T4PAh8Z"
      }
    },
    {
      "cell_type": "code",
      "source": [
        "\n",
        "\n",
        "\tfor (int i = 2; i <= 50; i++) {\n",
        "\t\tint sayac = 0;\n",
        "\t\tif (i != 2) {\n",
        "\t\t\tif (i % 2 == 0 && i != 2) {\n",
        "\t\t\t\tsayac = sayac + 1;\n",
        "\t\t\t\t}\n",
        "\t\t\tif(i % 3 == 0 && i != 3) {\n",
        "\t\t\t\tsayac = sayac + 1;\n",
        "\n",
        "\t\t\t}\n",
        "\t\t\tif (i % 5 == 0 && i != 5 ) {\n",
        "\t\t\t\tsayac = sayac + 1;\n",
        "\t\t\t}\n",
        "\t\t\tif (i % 7 == 0 && i != 7) {\n",
        "\t\t\t\tsayac = sayac + 1;\n",
        "\t\t}\n",
        "\t\t\tif (i % 11 == 0 && i != 11) {\n",
        "\t\t\t\t\tsayac = sayac + 1;\n",
        "\t\t\t}\n",
        "\n",
        "\n",
        "\t\tif (sayac == 0) {\n",
        "\t\t\tcout << i << \" asaldır\" << endl;\n",
        "\t\t}\n",
        "\t}\n",
        "\n",
        "\t\t\tif (i == 2 ) {\n",
        "\t\t\tcout << i << \" asaldır\" << endl;\n",
        "\t\t}\n",
        "\n",
        "\n",
        "\t}\n",
        "\n"
      ],
      "metadata": {
        "id": "tidGYIjvAlKB"
      },
      "execution_count": null,
      "outputs": []
    },
    {
      "cell_type": "markdown",
      "source": [
        "# BABIL ALGORITHM"
      ],
      "metadata": {
        "id": "SASsHLJkAvRq"
      }
    },
    {
      "cell_type": "code",
      "source": [
        "\tdouble sayi,kok;\n",
        "\n",
        "\tcout << \"Kökü hesaplanacak pozitif sayıyı giriniz: \";\n",
        "\tcin >> sayi;\n",
        "\tkok = sayi;\n",
        "\n",
        "\tkok = (kok + sayi / kok) / 2;\n",
        "\n",
        "\tdo {\n",
        "\t\tkok = (kok + sayi / kok) / 2;\n",
        "\n",
        "\t}while((kok * kok - sayi) > sayi / 10000);\n",
        "\n",
        "\n",
        "\n",
        "\tcout << \"Karekök: \" << kok << endl;\n"
      ],
      "metadata": {
        "id": "7rEMABZ-AwBt"
      },
      "execution_count": null,
      "outputs": []
    },
    {
      "cell_type": "markdown",
      "source": [
        "# NUMBER OF THE DAYS IN EACH MONTHS"
      ],
      "metadata": {
        "id": "Dw9SsVLRA1os"
      }
    },
    {
      "cell_type": "code",
      "source": [
        "\n",
        "\tint ay;\n",
        "\n",
        "\tcout << \"Bu program aydaki gün sayısını yazdırır.\" << endl;\n",
        "\n",
        "\n",
        "\twhile (true) {\n",
        "\n",
        "\n",
        "\tcout << \"Ay numarasını girniz(örnek : ocak = 1)(çıkış = 0): \";\n",
        "\tcin >> ay;\n",
        "\n",
        "\n",
        "\tswitch(ay) {\n",
        "\t\tcase 1:\n",
        "\t\t\tcout << \"31 gün çeker\" << endl;\n",
        "\t\t\tbreak;\n",
        "\t\tcase 2:\n",
        "\t\t\tcout << \"28 gün çeker\" << endl;\n",
        "\t\t\tbreak;\n",
        "\t\tcase 3:\n",
        "\t\t\tcout << \"31 gün çeker\" << endl;\n",
        "\t\t\tbreak;\n",
        "\t\tcase 4:\n",
        "\t\t\tcout << \"30 gün çeker\" << endl;\n",
        "\t\t\tbreak;\n",
        "\t\tcase 5:\n",
        "\t\t\tcout << \"31 gün çeker\" << endl;\n",
        "\t\t\tbreak;\n",
        "\t\tcase 6:\n",
        "\t\t\tcout << \"30 gün çeker\" << endl;\n",
        "\t\t\tbreak;\n",
        "\t\tcase 7:\n",
        "\t\t\tcout << \"31 gün çeker\" << endl;\n",
        "\t\t\tbreak;\n",
        "\n",
        "\t\tcase 8:\n",
        "\t\t\tcout << \"30 gün çeker\" << endl;\n",
        "\t\t\tbreak;\n",
        "\t\tcase 9:\n",
        "\t\t\tcout << \"31 gün çeker\" << endl;\n",
        "\t\t\tbreak;\n",
        "\t\tcase 10:\n",
        "\t\t\tcout << \"30 gün çeker\" <<endl;\n",
        "\n",
        "\t\t\tbreak;\n",
        "\t\tcase 11:\n",
        "\t\t\tcout << \"31 gün çeker\" << endl;\n",
        "\t\t\tbreak;\n",
        "\t\tcase 12:\n",
        "\t\t\tcout << \"30 gün çeker\" << endl;\n",
        "\t\t\tbreak;\n",
        "\t\tdefault:\n",
        "\t\t\tif (ay != 0) {\n",
        "\t\t\tcout << \"geçersiz işlem\" << endl;\n",
        "\t\t\t}\n",
        "\t\t\tbreak;\n",
        "\n",
        "\t}\n",
        "\tif(ay == 0){\n",
        "\t\tcout << \"çıkış yaptınız\" << endl;\n",
        "\t\tbreak;\n",
        "\t}\n",
        "\n",
        "}"
      ],
      "metadata": {
        "id": "2HUDSL1HBBl9"
      },
      "execution_count": null,
      "outputs": []
    }
  ]
}